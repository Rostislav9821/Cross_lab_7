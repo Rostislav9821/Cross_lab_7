{
 "cells": [
  {
   "cell_type": "markdown",
   "metadata": {},
   "source": [
    "Cоздайте объект Series, связав его с переменной school , и наполните данными, которые бы отражали количество учащихся в разных классах (1а, 1б, 2б, 6а, 7в и т. п.).\n",
    "\n",
    "Внесите изменения в объект Series согласно следующему:\n",
    "\n",
    "в одном из классов изменилось количество учащихся,\n",
    "в школе появился новый класс,\n",
    "в школе был расформирован (удален) другой класс.\n",
    "Вычислите общее количество учащихся в школе."
   ]
  },
  {
   "cell_type": "code",
   "execution_count": 1,
   "metadata": {},
   "outputs": [],
   "source": [
    "import pandas as pd\n",
    "import numpy as np"
   ]
  },
  {
   "cell_type": "code",
   "execution_count": 2,
   "metadata": {},
   "outputs": [
    {
     "name": "stdout",
     "output_type": "stream",
     "text": [
      "classes\n",
      "1а    19\n",
      "1б    18\n",
      "2б    21\n",
      "6а    16\n",
      "7в    15\n",
      "11     6\n",
      "dtype: int64\n"
     ]
    }
   ],
   "source": [
    "school = {'1а':19, '1б':18, '2б':21,'6а':16, '7в':15, '11':6}\n",
    "school_ser = pd.Series(school)\n",
    "school_ser.index.name = 'classes'\n",
    "print(school_ser)"
   ]
  },
  {
   "cell_type": "code",
   "execution_count": 3,
   "metadata": {},
   "outputs": [
    {
     "name": "stdout",
     "output_type": "stream",
     "text": [
      "classes\n",
      "1а    19\n",
      "1б    18\n",
      "2б    24\n",
      "6а    16\n",
      "7в    15\n",
      "11     6\n",
      "dtype: int64\n"
     ]
    }
   ],
   "source": [
    "school_ser['2б'] += 3\n",
    "print(school_ser)"
   ]
  },
  {
   "cell_type": "code",
   "execution_count": 4,
   "metadata": {},
   "outputs": [
    {
     "name": "stdout",
     "output_type": "stream",
     "text": [
      "1а    19\n",
      "1б    18\n",
      "2б    24\n",
      "6а    16\n",
      "7в    15\n",
      "11     6\n",
      "8а    17\n",
      "dtype: int64\n"
     ]
    }
   ],
   "source": [
    "school_ser = school_ser.append(pd.Series({'8а':17}))\n",
    "print(school_ser)"
   ]
  },
  {
   "cell_type": "code",
   "execution_count": 5,
   "metadata": {},
   "outputs": [
    {
     "name": "stdout",
     "output_type": "stream",
     "text": [
      "1а    19\n",
      "1б    18\n",
      "2б    24\n",
      "6а    16\n",
      "7в    15\n",
      "8а    17\n",
      "dtype: int64\n"
     ]
    }
   ],
   "source": [
    "del school_ser['11']\n",
    "print(school_ser)"
   ]
  },
  {
   "cell_type": "code",
   "execution_count": 6,
   "metadata": {},
   "outputs": [
    {
     "name": "stdout",
     "output_type": "stream",
     "text": [
      "109\n"
     ]
    }
   ],
   "source": [
    "print(school_ser.sum())"
   ]
  },
  {
   "cell_type": "code",
   "execution_count": null,
   "metadata": {},
   "outputs": [],
   "source": []
  }
 ],
 "metadata": {
  "kernelspec": {
   "display_name": "Python 3",
   "language": "python",
   "name": "python3"
  },
  "language_info": {
   "codemirror_mode": {
    "name": "ipython",
    "version": 3
   },
   "file_extension": ".py",
   "mimetype": "text/x-python",
   "name": "python",
   "nbconvert_exporter": "python",
   "pygments_lexer": "ipython3",
   "version": "3.8.5"
  }
 },
 "nbformat": 4,
 "nbformat_minor": 4
}
